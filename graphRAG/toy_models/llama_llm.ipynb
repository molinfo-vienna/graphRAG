{
 "cells": [
  {
   "cell_type": "markdown",
   "metadata": {},
   "source": [
    "# Llama LLM with Langchain\n",
    "https://python.langchain.com/docs/get_started/quickstart#llm-chain"
   ]
  },
  {
   "cell_type": "code",
   "execution_count": 1,
   "metadata": {},
   "outputs": [],
   "source": [
    "from langchain_community.llms import Ollama\n",
    "\n",
    "llm = Ollama(model=\"llama2\")"
   ]
  },
  {
   "cell_type": "code",
   "execution_count": 2,
   "metadata": {},
   "outputs": [
    {
     "data": {
      "text/plain": [
       "\"\\nLangsmith is a tool that can assist with testing by providing a variety of features and functionalities. Here are some ways Langsmith can help with testing:\\n\\n1. Automated Testing: Langsmith provides an automated testing framework that allows developers to write and run tests automatically, reducing the time and effort required for manual testing.\\n2. Code Coverage Analysis: Langsmith's code coverage analysis feature helps developers identify areas of their code that are not being tested, allowing them to prioritize testing efforts and ensure that all code paths are covered.\\n3. Test Case Management: Langsmith provides a test case management system that allows developers to organize, track, and run tests in a centralized manner. This helps ensure that tests are up-to-date and relevant.\\n4. Test Data Management: Langsmith's test data management feature enables developers to manage and re-use test data, reducing the time and effort required for setting up and running tests.\\n5. Integration Testing: Langsmith provides tools for integration testing, allowing developers to verify that their software components work together correctly.\\n6. Performance Testing: Langsmith offers performance testing features that enable developers to measure the performance of their software under different loads and conditions, identifying bottlenecks and areas for improvement.\\n7. Security Testing: Langsmith provides security testing tools that help identify vulnerabilities in software, enabling developers to fix them before they become exploitable.\\n8. Mobile App Testing: Langsmith supports mobile app testing, allowing developers to test their apps on real devices and simulate various scenarios to ensure quality and functionality.\\n9. Web Application Testing: Langsmith provides tools for web application testing, enabling developers to verify the functionality and performance of their web applications under different conditions.\\n10. Collaboration: Langsmith enables teams to collaborate on testing efforts by providing features such as real-time commenting, file sharing, and issue tracking.\\n\\nBy leveraging these features, developers can streamline their testing process, reduce the likelihood of errors and bugs, and ensure that their software is of high quality and performs well under various conditions.\""
      ]
     },
     "execution_count": 2,
     "metadata": {},
     "output_type": "execute_result"
    }
   ],
   "source": [
    "llm.invoke(\"how can langsmith help with testing?\")"
   ]
  }
 ],
 "metadata": {
  "kernelspec": {
   "display_name": "Python 3",
   "language": "python",
   "name": "python3"
  },
  "language_info": {
   "codemirror_mode": {
    "name": "ipython",
    "version": 3
   },
   "file_extension": ".py",
   "mimetype": "text/x-python",
   "name": "python",
   "nbconvert_exporter": "python",
   "pygments_lexer": "ipython3",
   "version": "3.11.8"
  }
 },
 "nbformat": 4,
 "nbformat_minor": 2
}
